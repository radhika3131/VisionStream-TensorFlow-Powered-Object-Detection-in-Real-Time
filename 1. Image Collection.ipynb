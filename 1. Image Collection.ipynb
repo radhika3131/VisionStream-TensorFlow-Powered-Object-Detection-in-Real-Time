{
 "cells": [
  {
   "cell_type": "markdown",
   "metadata": {},
   "source": [
    "# 1. Import Dependencies"
   ]
  },
  {
   "cell_type": "code",
   "execution_count": 1,
   "metadata": {},
   "outputs": [
    {
     "name": "stdout",
     "output_type": "stream",
     "text": [
      "Collecting opencv-python\n",
      "  Obtaining dependency information for opencv-python from https://files.pythonhosted.org/packages/a6/08/583e1d8d589e80a702815f58daa317bd469a32c7dc339394e2a0dc14318b/opencv_python-4.8.0.74-cp37-abi3-win_amd64.whl.metadata\n",
      "  Downloading opencv_python-4.8.0.74-cp37-abi3-win_amd64.whl.metadata (19 kB)\n",
      "Collecting numpy>=1.21.2 (from opencv-python)\n",
      "  Obtaining dependency information for numpy>=1.21.2 from https://files.pythonhosted.org/packages/2f/2a/34fe0b64e78347f4ea128868df0034a97e0f92b476f62947b0976caba820/numpy-1.25.1-cp311-cp311-win_amd64.whl.metadata\n",
      "  Downloading numpy-1.25.1-cp311-cp311-win_amd64.whl.metadata (5.7 kB)\n",
      "Using cached opencv_python-4.8.0.74-cp37-abi3-win_amd64.whl (38.1 MB)\n",
      "Downloading numpy-1.25.1-cp311-cp311-win_amd64.whl (15.0 MB)\n",
      "   ---------------------------------------- 0.0/15.0 MB ? eta -:--:--\n",
      "    --------------------------------------- 0.3/15.0 MB 8.9 MB/s eta 0:00:02\n",
      "   --- ------------------------------------ 1.4/15.0 MB 17.9 MB/s eta 0:00:01\n",
      "   ------- -------------------------------- 2.9/15.0 MB 23.4 MB/s eta 0:00:01\n",
      "   ---------- ----------------------------- 4.1/15.0 MB 23.5 MB/s eta 0:00:01\n",
      "   ------------ --------------------------- 4.7/15.0 MB 21.5 MB/s eta 0:00:01\n",
      "   --------------- ------------------------ 5.7/15.0 MB 21.6 MB/s eta 0:00:01\n",
      "   ----------------- ---------------------- 6.4/15.0 MB 21.5 MB/s eta 0:00:01\n",
      "   ------------------- -------------------- 7.2/15.0 MB 20.0 MB/s eta 0:00:01\n",
      "   -------------------- ------------------- 7.8/15.0 MB 19.1 MB/s eta 0:00:01\n",
      "   --------------------- ------------------ 8.2/15.0 MB 18.1 MB/s eta 0:00:01\n",
      "   ---------------------- ----------------- 8.6/15.0 MB 17.1 MB/s eta 0:00:01\n",
      "   ----------------------- ---------------- 8.9/15.0 MB 16.2 MB/s eta 0:00:01\n",
      "   ------------------------ --------------- 9.2/15.0 MB 15.4 MB/s eta 0:00:01\n",
      "   ------------------------- -------------- 9.5/15.0 MB 14.7 MB/s eta 0:00:01\n",
      "   -------------------------- ------------- 9.8/15.0 MB 14.2 MB/s eta 0:00:01\n",
      "   -------------------------- ------------- 10.1/15.0 MB 13.7 MB/s eta 0:00:01\n",
      "   --------------------------- ------------ 10.4/15.0 MB 13.6 MB/s eta 0:00:01\n",
      "   ---------------------------- ----------- 10.8/15.0 MB 13.1 MB/s eta 0:00:01\n",
      "   ----------------------------- ---------- 11.1/15.0 MB 12.6 MB/s eta 0:00:01\n",
      "   ------------------------------ --------- 11.5/15.0 MB 12.1 MB/s eta 0:00:01\n",
      "   ------------------------------- -------- 11.9/15.0 MB 11.7 MB/s eta 0:00:01\n",
      "   -------------------------------- ------- 12.3/15.0 MB 11.1 MB/s eta 0:00:01\n",
      "   --------------------------------- ------ 12.7/15.0 MB 10.7 MB/s eta 0:00:01\n",
      "   ---------------------------------- ----- 13.1/15.0 MB 10.4 MB/s eta 0:00:01\n",
      "   ----------------------------------- ---- 13.5/15.0 MB 10.2 MB/s eta 0:00:01\n",
      "   ------------------------------------- -- 13.9/15.0 MB 9.8 MB/s eta 0:00:01\n",
      "   -------------------------------------- - 14.3/15.0 MB 9.6 MB/s eta 0:00:01\n",
      "   ---------------------------------------  14.8/15.0 MB 9.4 MB/s eta 0:00:01\n",
      "   ---------------------------------------  15.0/15.0 MB 9.4 MB/s eta 0:00:01\n",
      "   ---------------------------------------  15.0/15.0 MB 9.4 MB/s eta 0:00:01\n",
      "   ---------------------------------------- 15.0/15.0 MB 8.7 MB/s eta 0:00:00\n",
      "Installing collected packages: numpy, opencv-python\n",
      "Successfully installed numpy-1.25.1 opencv-python-4.8.0.74\n"
     ]
    }
   ],
   "source": [
    "!pip install opencv-python"
   ]
  },
  {
   "cell_type": "code",
   "execution_count": 3,
   "metadata": {},
   "outputs": [],
   "source": [
    "# Import opencv\n",
    "import cv2 \n",
    "\n",
    "# Import uuid , for naming files\n",
    "import uuid\n",
    "\n",
    "# Import Operating System\n",
    "import os\n",
    "\n",
    "# Import time , it will provide break between capturing of images\n",
    "import time"
   ]
  },
  {
   "cell_type": "markdown",
   "metadata": {},
   "source": [
    "# 2. Define Images to Collect"
   ]
  },
  {
   "cell_type": "code",
   "execution_count": 8,
   "metadata": {},
   "outputs": [],
   "source": [
    "labels = ['hello', 'thankyou', 'yes', 'no' , 'iloveyou']\n",
    "number_imgs = 15"
   ]
  },
  {
   "cell_type": "markdown",
   "metadata": {},
   "source": [
    "# 3. Setup Folders "
   ]
  },
  {
   "cell_type": "code",
   "execution_count": 9,
   "metadata": {},
   "outputs": [],
   "source": [
    "IMAGES_PATH = os.path.join('Tensorflow', 'workspace', 'images', 'collectedimages')"
   ]
  },
  {
   "cell_type": "code",
   "execution_count": 10,
   "metadata": {},
   "outputs": [],
   "source": [
    "if not os.path.exists(IMAGES_PATH):\n",
    "    if os.name == 'posix':\n",
    "        !mkdir -p {IMAGES_PATH}\n",
    "    if os.name == 'nt':\n",
    "         !mkdir {IMAGES_PATH}\n",
    "for label in labels:\n",
    "    path = os.path.join(IMAGES_PATH, label)\n",
    "    if not os.path.exists(path):\n",
    "        !mkdir {path}"
   ]
  },
  {
   "cell_type": "markdown",
   "metadata": {},
   "source": [
    "# 4. Capture Images"
   ]
  },
  {
   "cell_type": "code",
   "execution_count": 11,
   "metadata": {},
   "outputs": [
    {
     "name": "stdout",
     "output_type": "stream",
     "text": [
      "Collecting images for hello\n",
      "Collecting image 0\n",
      "Collecting image 1\n",
      "Collecting image 2\n",
      "Collecting image 3\n",
      "Collecting image 4\n",
      "Collecting image 5\n",
      "Collecting image 6\n",
      "Collecting image 7\n",
      "Collecting image 8\n",
      "Collecting image 9\n",
      "Collecting image 10\n",
      "Collecting image 11\n",
      "Collecting image 12\n",
      "Collecting image 13\n",
      "Collecting image 14\n",
      "Collecting images for thankyou\n",
      "Collecting image 0\n",
      "Collecting image 1\n",
      "Collecting image 2\n",
      "Collecting image 3\n",
      "Collecting image 4\n",
      "Collecting image 5\n",
      "Collecting image 6\n",
      "Collecting image 7\n",
      "Collecting image 8\n",
      "Collecting image 9\n",
      "Collecting image 10\n",
      "Collecting image 11\n",
      "Collecting image 12\n",
      "Collecting image 13\n",
      "Collecting image 14\n",
      "Collecting images for yes\n",
      "Collecting image 0\n",
      "Collecting image 1\n",
      "Collecting image 2\n",
      "Collecting image 3\n",
      "Collecting image 4\n",
      "Collecting image 5\n",
      "Collecting image 6\n",
      "Collecting image 7\n",
      "Collecting image 8\n",
      "Collecting image 9\n",
      "Collecting image 10\n",
      "Collecting image 11\n",
      "Collecting image 12\n",
      "Collecting image 13\n",
      "Collecting image 14\n",
      "Collecting images for no\n",
      "Collecting image 0\n",
      "Collecting image 1\n",
      "Collecting image 2\n",
      "Collecting image 3\n",
      "Collecting image 4\n",
      "Collecting image 5\n",
      "Collecting image 6\n",
      "Collecting image 7\n",
      "Collecting image 8\n",
      "Collecting image 9\n",
      "Collecting image 10\n",
      "Collecting image 11\n",
      "Collecting image 12\n",
      "Collecting image 13\n",
      "Collecting image 14\n",
      "Collecting images for iloveyou\n",
      "Collecting image 0\n",
      "Collecting image 1\n",
      "Collecting image 2\n",
      "Collecting image 3\n",
      "Collecting image 4\n",
      "Collecting image 5\n",
      "Collecting image 6\n",
      "Collecting image 7\n",
      "Collecting image 8\n",
      "Collecting image 9\n",
      "Collecting image 10\n",
      "Collecting image 11\n",
      "Collecting image 12\n",
      "Collecting image 13\n",
      "Collecting image 14\n"
     ]
    }
   ],
   "source": [
    "for label in labels:\n",
    "    cap = cv2.VideoCapture(0)\n",
    "    print('Collecting images for {}'.format(label))\n",
    "    time.sleep(5)\n",
    "    for imgnum in range(number_imgs):\n",
    "        print('Collecting image {}'.format(imgnum))\n",
    "        ret, frame = cap.read()\n",
    "        imgname = os.path.join(IMAGES_PATH,label,label+'.'+'{}.jpg'.format(str(uuid.uuid1())))\n",
    "        cv2.imwrite(imgname, frame)\n",
    "        cv2.imshow('frame', frame)\n",
    "        time.sleep(2)\n",
    "\n",
    "        if cv2.waitKey(1) & 0xFF == ord('q'):\n",
    "            break\n",
    "cap.release()\n",
    "cv2.destroyAllWindows()"
   ]
  },
  {
   "cell_type": "markdown",
   "metadata": {},
   "source": [
    "# 5. Image Labelling"
   ]
  },
  {
   "cell_type": "code",
   "execution_count": 12,
   "metadata": {},
   "outputs": [
    {
     "name": "stdout",
     "output_type": "stream",
     "text": [
      "Collecting pyqt5\n",
      "  Using cached PyQt5-5.15.9-cp37-abi3-win_amd64.whl (6.8 MB)\n",
      "Collecting lxml\n",
      "  Obtaining dependency information for lxml from https://files.pythonhosted.org/packages/31/58/e3b3dd6bb2ab7404f1f4992e2d0e6926ed40cef8ce1b3bbefd95877499e1/lxml-4.9.3-cp311-cp311-win_amd64.whl.metadata\n",
      "  Downloading lxml-4.9.3-cp311-cp311-win_amd64.whl.metadata (3.9 kB)\n",
      "Collecting PyQt5-sip<13,>=12.11 (from pyqt5)\n",
      "  Using cached PyQt5_sip-12.12.1-cp311-cp311-win_amd64.whl (78 kB)\n",
      "Collecting PyQt5-Qt5>=5.15.2 (from pyqt5)\n",
      "  Using cached PyQt5_Qt5-5.15.2-py3-none-win_amd64.whl (50.1 MB)\n",
      "Using cached lxml-4.9.3-cp311-cp311-win_amd64.whl (3.8 MB)\n",
      "Installing collected packages: PyQt5-Qt5, PyQt5-sip, lxml, pyqt5\n",
      "Successfully installed PyQt5-Qt5-5.15.2 PyQt5-sip-12.12.1 lxml-4.9.3 pyqt5-5.15.9\n"
     ]
    }
   ],
   "source": [
    "!pip install --upgrade pyqt5 lxml"
   ]
  },
  {
   "cell_type": "code",
   "execution_count": 13,
   "metadata": {},
   "outputs": [],
   "source": [
    "LABELIMG_PATH = os.path.join('Tensorflow', 'labelimg')"
   ]
  },
  {
   "cell_type": "code",
   "execution_count": 14,
   "metadata": {},
   "outputs": [
    {
     "name": "stderr",
     "output_type": "stream",
     "text": [
      "Cloning into 'Tensorflow\\labelimg'...\n"
     ]
    }
   ],
   "source": [
    "if not os.path.exists(LABELIMG_PATH):\n",
    "    !mkdir {LABELIMG_PATH}\n",
    "    !git clone https://github.com/tzutalin/labelImg {LABELIMG_PATH}"
   ]
  },
  {
   "cell_type": "code",
   "execution_count": 15,
   "metadata": {},
   "outputs": [],
   "source": [
    "if os.name == 'posix':\n",
    "    !make qt5py3\n",
    "if os.name =='nt':\n",
    "    !cd {LABELIMG_PATH} && pyrcc5 -o libs/resources.py resources.qrc"
   ]
  },
  {
   "cell_type": "code",
   "execution_count": 16,
   "metadata": {},
   "outputs": [
    {
     "name": "stdout",
     "output_type": "stream",
     "text": [
      "Image:H:\\TensorflowObjectDetection\\TFODCourse\\Tensorflow\\workspace\\images\\collectedimages\\hello\\hello.2a1ed916-2346-11ee-964d-b0fc36a92524.jpg -> Annotation:H:/TensorflowObjectDetection/TFODCourse/Tensorflow/workspace/images/collectedimages/hello\\hello.2a1ed916-2346-11ee-964d-b0fc36a92524.xml\n",
      "Image:H:\\TensorflowObjectDetection\\TFODCourse\\Tensorflow\\workspace\\images\\collectedimages\\hello\\hello.2b556623-2346-11ee-9f68-b0fc36a92524.jpg -> Annotation:H:/TensorflowObjectDetection/TFODCourse/Tensorflow/workspace/images/collectedimages/hello\\hello.2b556623-2346-11ee-9f68-b0fc36a92524.xml\n",
      "Image:H:\\TensorflowObjectDetection\\TFODCourse\\Tensorflow\\workspace\\images\\collectedimages\\hello\\hello.2c8b9e9e-2346-11ee-8da7-b0fc36a92524.jpg -> Annotation:H:/TensorflowObjectDetection/TFODCourse/Tensorflow/workspace/images/collectedimages/hello\\hello.2c8b9e9e-2346-11ee-8da7-b0fc36a92524.xml\n",
      "Image:H:\\TensorflowObjectDetection\\TFODCourse\\Tensorflow\\workspace\\images\\collectedimages\\hello\\hello.2dc3f09a-2346-11ee-a2d9-b0fc36a92524.jpg -> Annotation:H:/TensorflowObjectDetection/TFODCourse/Tensorflow/workspace/images/collectedimages/hello\\hello.2dc3f09a-2346-11ee-a2d9-b0fc36a92524.xml\n",
      "Image:H:\\TensorflowObjectDetection\\TFODCourse\\Tensorflow\\workspace\\images\\collectedimages\\hello\\hello.2efd4e87-2346-11ee-9b7c-b0fc36a92524.jpg -> Annotation:H:/TensorflowObjectDetection/TFODCourse/Tensorflow/workspace/images/collectedimages/hello\\hello.2efd4e87-2346-11ee-9b7c-b0fc36a92524.xml\n",
      "Image:H:\\TensorflowObjectDetection\\TFODCourse\\Tensorflow\\workspace\\images\\collectedimages\\hello\\hello.22c89c1d-2346-11ee-92dd-b0fc36a92524.jpg -> Annotation:H:/TensorflowObjectDetection/TFODCourse/Tensorflow/workspace/images/collectedimages/hello\\hello.22c89c1d-2346-11ee-92dd-b0fc36a92524.xml\n",
      "Image:H:\\TensorflowObjectDetection\\TFODCourse\\Tensorflow\\workspace\\images\\collectedimages\\hello\\hello.27ac2ea0-2346-11ee-b52e-b0fc36a92524.jpg -> Annotation:H:/TensorflowObjectDetection/TFODCourse/Tensorflow/workspace/images/collectedimages/hello\\hello.27ac2ea0-2346-11ee-b52e-b0fc36a92524.xml\n",
      "Image:H:\\TensorflowObjectDetection\\TFODCourse\\Tensorflow\\workspace\\images\\collectedimages\\hello\\hello.28e4ae5d-2346-11ee-b112-b0fc36a92524.jpg -> Annotation:H:/TensorflowObjectDetection/TFODCourse/Tensorflow/workspace/images/collectedimages/hello\\hello.28e4ae5d-2346-11ee-b112-b0fc36a92524.xml\n",
      "Image:H:\\TensorflowObjectDetection\\TFODCourse\\Tensorflow\\workspace\\images\\collectedimages\\hello\\hello.32a6a419-2346-11ee-8a89-b0fc36a92524.jpg -> Annotation:H:/TensorflowObjectDetection/TFODCourse/Tensorflow/workspace/images/collectedimages/hello\\hello.32a6a419-2346-11ee-8a89-b0fc36a92524.xml\n",
      "Image:H:\\TensorflowObjectDetection\\TFODCourse\\Tensorflow\\workspace\\images\\collectedimages\\hello\\hello.33dece5b-2346-11ee-8a8b-b0fc36a92524.jpg -> Annotation:H:/TensorflowObjectDetection/TFODCourse/Tensorflow/workspace/images/collectedimages/hello\\hello.33dece5b-2346-11ee-8a8b-b0fc36a92524.xml\n",
      "Image:H:\\TensorflowObjectDetection\\TFODCourse\\Tensorflow\\workspace\\images\\collectedimages\\hello\\hello.316da2a0-2346-11ee-a2e4-b0fc36a92524.jpg -> Annotation:H:/TensorflowObjectDetection/TFODCourse/Tensorflow/workspace/images/collectedimages/hello\\hello.316da2a0-2346-11ee-a2e4-b0fc36a92524.xml\n",
      "Image:H:\\TensorflowObjectDetection\\TFODCourse\\Tensorflow\\workspace\\images\\collectedimages\\hello\\hello.303523b5-2346-11ee-9c48-b0fc36a92524.jpg -> Annotation:H:/TensorflowObjectDetection/TFODCourse/Tensorflow/workspace/images/collectedimages/hello\\hello.303523b5-2346-11ee-9c48-b0fc36a92524.xml\n",
      "Image:H:\\TensorflowObjectDetection\\TFODCourse\\Tensorflow\\workspace\\images\\collectedimages\\hello\\hello.24029123-2346-11ee-9cdf-b0fc36a92524.jpg -> Annotation:H:/TensorflowObjectDetection/TFODCourse/Tensorflow/workspace/images/collectedimages/hello\\hello.24029123-2346-11ee-9cdf-b0fc36a92524.xml\n",
      "Image:H:\\TensorflowObjectDetection\\TFODCourse\\Tensorflow\\workspace\\images\\collectedimages\\hello\\hello.25391050-2346-11ee-961d-b0fc36a92524.jpg -> Annotation:H:/TensorflowObjectDetection/TFODCourse/Tensorflow/workspace/images/collectedimages/hello\\hello.25391050-2346-11ee-961d-b0fc36a92524.xml\n",
      "Image:H:\\TensorflowObjectDetection\\TFODCourse\\Tensorflow\\workspace\\images\\collectedimages\\hello\\hello.26748397-2346-11ee-a2ab-b0fc36a92524.jpg -> Annotation:H:/TensorflowObjectDetection/TFODCourse/Tensorflow/workspace/images/collectedimages/hello\\hello.26748397-2346-11ee-a2ab-b0fc36a92524.xml\n",
      "Image:H:\\TensorflowObjectDetection\\TFODCourse\\Tensorflow\\workspace\\images\\collectedimages\\hello\\hello.e4b785ff-2345-11ee-b38a-b0fc36a92524.jpg -> Annotation:H:/TensorflowObjectDetection/TFODCourse/Tensorflow/workspace/images/collectedimages/hello\\hello.e4b785ff-2345-11ee-b38a-b0fc36a92524.xml\n",
      "Image:H:\\TensorflowObjectDetection\\TFODCourse\\Tensorflow\\workspace\\images\\collectedimages\\hello\\hello.e5ee5cb5-2345-11ee-948b-b0fc36a92524.jpg -> Annotation:H:/TensorflowObjectDetection/TFODCourse/Tensorflow/workspace/images/collectedimages/hello\\hello.e5ee5cb5-2345-11ee-948b-b0fc36a92524.xml\n",
      "Image:H:\\TensorflowObjectDetection\\TFODCourse\\Tensorflow\\workspace\\images\\collectedimages\\hello\\hello.e37c7dc9-2345-11ee-b696-b0fc36a92524.jpg -> Annotation:H:/TensorflowObjectDetection/TFODCourse/Tensorflow/workspace/images/collectedimages/hello\\hello.e37c7dc9-2345-11ee-b696-b0fc36a92524.xml\n",
      "Image:H:\\TensorflowObjectDetection\\TFODCourse\\Tensorflow\\workspace\\images\\collectedimages\\hello\\hello.e85ae61a-2345-11ee-8e35-b0fc36a92524.jpg -> Annotation:H:/TensorflowObjectDetection/TFODCourse/Tensorflow/workspace/images/collectedimages/hello\\hello.e85ae61a-2345-11ee-8e35-b0fc36a92524.xml\n",
      "Image:H:\\TensorflowObjectDetection\\TFODCourse\\Tensorflow\\workspace\\images\\collectedimages\\hello\\hello.e7244361-2345-11ee-9578-b0fc36a92524.jpg -> Annotation:H:/TensorflowObjectDetection/TFODCourse/Tensorflow/workspace/images/collectedimages/hello\\hello.e7244361-2345-11ee-9578-b0fc36a92524.xml\n",
      "Image:H:\\TensorflowObjectDetection\\TFODCourse\\Tensorflow\\workspace\\images\\collectedimages\\iloveyou\\iloveyou.91b56995-2346-11ee-b776-b0fc36a92524.jpg -> Annotation:H:/TensorflowObjectDetection/TFODCourse/Tensorflow/workspace/images/collectedimages/iloveyou\\iloveyou.91b56995-2346-11ee-b776-b0fc36a92524.xml\n",
      "Image:H:\\TensorflowObjectDetection\\TFODCourse\\Tensorflow\\workspace\\images\\collectedimages\\iloveyou\\iloveyou.92ee6d2c-2346-11ee-8592-b0fc36a92524.jpg -> Annotation:H:/TensorflowObjectDetection/TFODCourse/Tensorflow/workspace/images/collectedimages/iloveyou\\iloveyou.92ee6d2c-2346-11ee-8592-b0fc36a92524.xml\n",
      "Image:H:\\TensorflowObjectDetection\\TFODCourse\\Tensorflow\\workspace\\images\\collectedimages\\iloveyou\\iloveyou.97cfda33-2346-11ee-9b47-b0fc36a92524.jpg -> Annotation:H:/TensorflowObjectDetection/TFODCourse/Tensorflow/workspace/images/collectedimages/iloveyou\\iloveyou.97cfda33-2346-11ee-9b47-b0fc36a92524.xml\n",
      "Image:H:\\TensorflowObjectDetection\\TFODCourse\\Tensorflow\\workspace\\images\\collectedimages\\iloveyou\\iloveyou.187aac4f-2346-11ee-ae03-b0fc36a92524.jpg -> Annotation:H:/TensorflowObjectDetection/TFODCourse/Tensorflow/workspace/images/collectedimages/iloveyou\\iloveyou.187aac4f-2346-11ee-ae03-b0fc36a92524.xml\n",
      "Image:H:\\TensorflowObjectDetection\\TFODCourse\\Tensorflow\\workspace\\images\\collectedimages\\iloveyou\\iloveyou.907cc182-2346-11ee-8061-b0fc36a92524.jpg -> Annotation:H:/TensorflowObjectDetection/TFODCourse/Tensorflow/workspace/images/collectedimages/iloveyou\\iloveyou.907cc182-2346-11ee-8061-b0fc36a92524.xml\n",
      "Image:H:\\TensorflowObjectDetection\\TFODCourse\\Tensorflow\\workspace\\images\\collectedimages\\iloveyou\\iloveyou.955eee67-2346-11ee-8a1c-b0fc36a92524.jpg -> Annotation:H:/TensorflowObjectDetection/TFODCourse/Tensorflow/workspace/images/collectedimages/iloveyou\\iloveyou.955eee67-2346-11ee-8a1c-b0fc36a92524.xml\n",
      "Image:H:\\TensorflowObjectDetection\\TFODCourse\\Tensorflow\\workspace\\images\\collectedimages\\iloveyou\\iloveyou.1608c066-2346-11ee-85e0-b0fc36a92524.jpg -> Annotation:H:/TensorflowObjectDetection/TFODCourse/Tensorflow/workspace/images/collectedimages/iloveyou\\iloveyou.1608c066-2346-11ee-85e0-b0fc36a92524.xml\n",
      "Image:H:\\TensorflowObjectDetection\\TFODCourse\\Tensorflow\\workspace\\images\\collectedimages\\iloveyou\\iloveyou.8929efc9-2346-11ee-b102-b0fc36a92524.jpg -> Annotation:H:/TensorflowObjectDetection/TFODCourse/Tensorflow/workspace/images/collectedimages/iloveyou\\iloveyou.8929efc9-2346-11ee-b102-b0fc36a92524.xml\n",
      "Image:H:\\TensorflowObjectDetection\\TFODCourse\\Tensorflow\\workspace\\images\\collectedimages\\iloveyou\\iloveyou.17411f34-2346-11ee-9564-b0fc36a92524.jpg -> Annotation:H:/TensorflowObjectDetection/TFODCourse/Tensorflow/workspace/images/collectedimages/iloveyou\\iloveyou.17411f34-2346-11ee-9564-b0fc36a92524.xml\n",
      "Image:H:\\TensorflowObjectDetection\\TFODCourse\\Tensorflow\\workspace\\images\\collectedimages\\iloveyou\\iloveyou.96971a27-2346-11ee-a796-b0fc36a92524.jpg -> Annotation:H:/TensorflowObjectDetection/TFODCourse/Tensorflow/workspace/images/collectedimages/iloveyou\\iloveyou.96971a27-2346-11ee-a796-b0fc36a92524.xml\n",
      "Image:H:\\TensorflowObjectDetection\\TFODCourse\\Tensorflow\\workspace\\images\\collectedimages\\iloveyou\\iloveyou.9426550c-2346-11ee-bf65-b0fc36a92524.jpg -> Annotation:H:/TensorflowObjectDetection/TFODCourse/Tensorflow/workspace/images/collectedimages/iloveyou\\iloveyou.9426550c-2346-11ee-bf65-b0fc36a92524.xml\n",
      "Image:H:\\TensorflowObjectDetection\\TFODCourse\\Tensorflow\\workspace\\images\\collectedimages\\no\\no.6d835e61-2346-11ee-bba4-b0fc36a92524.jpg -> Annotation:H:/TensorflowObjectDetection/TFODCourse/Tensorflow/workspace/images/collectedimages/no\\no.6d835e61-2346-11ee-bba4-b0fc36a92524.xml\n",
      "Image:H:\\TensorflowObjectDetection\\TFODCourse\\Tensorflow\\workspace\\images\\collectedimages\\no\\no.6ebec70d-2346-11ee-9618-b0fc36a92524.jpg -> Annotation:H:/TensorflowObjectDetection/TFODCourse/Tensorflow/workspace/images/collectedimages/no\\no.6ebec70d-2346-11ee-9618-b0fc36a92524.xml\n",
      "Image:H:\\TensorflowObjectDetection\\TFODCourse\\Tensorflow\\workspace\\images\\collectedimages\\no\\no.6ff6ec43-2346-11ee-afe2-b0fc36a92524.jpg -> Annotation:H:/TensorflowObjectDetection/TFODCourse/Tensorflow/workspace/images/collectedimages/no\\no.6ff6ec43-2346-11ee-afe2-b0fc36a92524.xml\n",
      "Image:H:\\TensorflowObjectDetection\\TFODCourse\\Tensorflow\\workspace\\images\\collectedimages\\no\\no.7af38455-2346-11ee-9eed-b0fc36a92524.jpg -> Annotation:H:/TensorflowObjectDetection/TFODCourse/Tensorflow/workspace/images/collectedimages/no\\no.7af38455-2346-11ee-9eed-b0fc36a92524.xml\n",
      "Cancel creation.\n",
      "Image:H:\\TensorflowObjectDetection\\TFODCourse\\Tensorflow\\workspace\\images\\collectedimages\\no\\no.7c2b1027-2346-11ee-a0d9-b0fc36a92524.jpg -> Annotation:H:/TensorflowObjectDetection/TFODCourse/Tensorflow/workspace/images/collectedimages/no\\no.7c2b1027-2346-11ee-a0d9-b0fc36a92524.xml\n",
      "Image:H:\\TensorflowObjectDetection\\TFODCourse\\Tensorflow\\workspace\\images\\collectedimages\\no\\no.7d63e527-2346-11ee-98f0-b0fc36a92524.jpg -> Annotation:H:/TensorflowObjectDetection/TFODCourse/Tensorflow/workspace/images/collectedimages/no\\no.7d63e527-2346-11ee-98f0-b0fc36a92524.xml\n",
      "Image:H:\\TensorflowObjectDetection\\TFODCourse\\Tensorflow\\workspace\\images\\collectedimages\\no\\no.7e9ccea2-2346-11ee-b20b-b0fc36a92524.jpg -> Annotation:H:/TensorflowObjectDetection/TFODCourse/Tensorflow/workspace/images/collectedimages/no\\no.7e9ccea2-2346-11ee-b20b-b0fc36a92524.xml\n",
      "Image:H:\\TensorflowObjectDetection\\TFODCourse\\Tensorflow\\workspace\\images\\collectedimages\\no\\no.74dd1ff1-2346-11ee-b574-b0fc36a92524.jpg -> Annotation:H:/TensorflowObjectDetection/TFODCourse/Tensorflow/workspace/images/collectedimages/no\\no.74dd1ff1-2346-11ee-b574-b0fc36a92524.xml\n",
      "Image:H:\\TensorflowObjectDetection\\TFODCourse\\Tensorflow\\workspace\\images\\collectedimages\\no\\no.79ba67b3-2346-11ee-983a-b0fc36a92524.jpg -> Annotation:H:/TensorflowObjectDetection/TFODCourse/Tensorflow/workspace/images/collectedimages/no\\no.79ba67b3-2346-11ee-983a-b0fc36a92524.xml\n",
      "Image:H:\\TensorflowObjectDetection\\TFODCourse\\Tensorflow\\workspace\\images\\collectedimages\\no\\no.712d5272-2346-11ee-8b3d-b0fc36a92524.jpg -> Annotation:H:/TensorflowObjectDetection/TFODCourse/Tensorflow/workspace/images/collectedimages/no\\no.712d5272-2346-11ee-8b3d-b0fc36a92524.xml\n",
      "Image:H:\\TensorflowObjectDetection\\TFODCourse\\Tensorflow\\workspace\\images\\collectedimages\\no\\no.739bd75c-2346-11ee-a6ca-b0fc36a92524.jpg -> Annotation:H:/TensorflowObjectDetection/TFODCourse/Tensorflow/workspace/images/collectedimages/no\\no.739bd75c-2346-11ee-a6ca-b0fc36a92524.xml\n",
      "Image:H:\\TensorflowObjectDetection\\TFODCourse\\Tensorflow\\workspace\\images\\collectedimages\\no\\no.774acc75-2346-11ee-9410-b0fc36a92524.jpg -> Annotation:H:/TensorflowObjectDetection/TFODCourse/Tensorflow/workspace/images/collectedimages/no\\no.774acc75-2346-11ee-9410-b0fc36a92524.xml\n",
      "Image:H:\\TensorflowObjectDetection\\TFODCourse\\Tensorflow\\workspace\\images\\collectedimages\\no\\no.7881b065-2346-11ee-81c6-b0fc36a92524.jpg -> Annotation:H:/TensorflowObjectDetection/TFODCourse/Tensorflow/workspace/images/collectedimages/no\\no.7881b065-2346-11ee-81c6-b0fc36a92524.xml\n",
      "Image:H:\\TensorflowObjectDetection\\TFODCourse\\Tensorflow\\workspace\\images\\collectedimages\\no\\no.76130aae-2346-11ee-8516-b0fc36a92524.jpg -> Annotation:H:/TensorflowObjectDetection/TFODCourse/Tensorflow/workspace/images/collectedimages/no\\no.76130aae-2346-11ee-8516-b0fc36a92524.xml\n",
      "Image:H:\\TensorflowObjectDetection\\TFODCourse\\Tensorflow\\workspace\\images\\collectedimages\\no\\no.726574be-2346-11ee-83f1-b0fc36a92524.jpg -> Annotation:H:/TensorflowObjectDetection/TFODCourse/Tensorflow/workspace/images/collectedimages/no\\no.726574be-2346-11ee-83f1-b0fc36a92524.xml\n",
      "Image:H:\\TensorflowObjectDetection\\TFODCourse\\Tensorflow\\workspace\\images\\collectedimages\\thankyou\\thankyou.3c051859-2346-11ee-b9c9-b0fc36a92524.jpg -> Annotation:H:/TensorflowObjectDetection/TFODCourse/Tensorflow/workspace/images/collectedimages/thankyou\\thankyou.3c051859-2346-11ee-b9c9-b0fc36a92524.xml\n",
      "Image:H:\\TensorflowObjectDetection\\TFODCourse\\Tensorflow\\workspace\\images\\collectedimages\\thankyou\\thankyou.3d3dc7ed-2346-11ee-a442-b0fc36a92524.jpg -> Annotation:H:/TensorflowObjectDetection/TFODCourse/Tensorflow/workspace/images/collectedimages/thankyou\\thankyou.3d3dc7ed-2346-11ee-a442-b0fc36a92524.xml\n",
      "Image:H:\\TensorflowObjectDetection\\TFODCourse\\Tensorflow\\workspace\\images\\collectedimages\\thankyou\\thankyou.3e754f32-2346-11ee-aba0-b0fc36a92524.jpg -> Annotation:H:/TensorflowObjectDetection/TFODCourse/Tensorflow/workspace/images/collectedimages/thankyou\\thankyou.3e754f32-2346-11ee-aba0-b0fc36a92524.xml\n",
      "Image:H:\\TensorflowObjectDetection\\TFODCourse\\Tensorflow\\workspace\\images\\collectedimages\\thankyou\\thankyou.3fb035dc-2346-11ee-8dab-b0fc36a92524.jpg -> Annotation:H:/TensorflowObjectDetection/TFODCourse/Tensorflow/workspace/images/collectedimages/thankyou\\thankyou.3fb035dc-2346-11ee-8dab-b0fc36a92524.xml\n",
      "Image:H:\\TensorflowObjectDetection\\TFODCourse\\Tensorflow\\workspace\\images\\collectedimages\\thankyou\\thankyou.4aacb5c9-2346-11ee-9a1b-b0fc36a92524.jpg -> Annotation:H:/TensorflowObjectDetection/TFODCourse/Tensorflow/workspace/images/collectedimages/thankyou\\thankyou.4aacb5c9-2346-11ee-9a1b-b0fc36a92524.xml\n",
      "Image:H:\\TensorflowObjectDetection\\TFODCourse\\Tensorflow\\workspace\\images\\collectedimages\\thankyou\\thankyou.4be56b62-2346-11ee-b8c1-b0fc36a92524.jpg -> Annotation:H:/TensorflowObjectDetection/TFODCourse/Tensorflow/workspace/images/collectedimages/thankyou\\thankyou.4be56b62-2346-11ee-b8c1-b0fc36a92524.xml\n",
      "Image:H:\\TensorflowObjectDetection\\TFODCourse\\Tensorflow\\workspace\\images\\collectedimages\\thankyou\\thankyou.4d1df9f5-2346-11ee-9aad-b0fc36a92524.jpg -> Annotation:H:/TensorflowObjectDetection/TFODCourse/Tensorflow/workspace/images/collectedimages/thankyou\\thankyou.4d1df9f5-2346-11ee-9aad-b0fc36a92524.xml\n",
      "Image:H:\\TensorflowObjectDetection\\TFODCourse\\Tensorflow\\workspace\\images\\collectedimages\\thankyou\\thankyou.40e8f030-2346-11ee-ae2c-b0fc36a92524.jpg -> Annotation:H:/TensorflowObjectDetection/TFODCourse/Tensorflow/workspace/images/collectedimages/thankyou\\thankyou.40e8f030-2346-11ee-ae2c-b0fc36a92524.xml\n",
      "Image:H:\\TensorflowObjectDetection\\TFODCourse\\Tensorflow\\workspace\\images\\collectedimages\\thankyou\\thankyou.45cc167a-2346-11ee-8ba9-b0fc36a92524.jpg -> Annotation:H:/TensorflowObjectDetection/TFODCourse/Tensorflow/workspace/images/collectedimages/thankyou\\thankyou.45cc167a-2346-11ee-8ba9-b0fc36a92524.xml\n",
      "Image:H:\\TensorflowObjectDetection\\TFODCourse\\Tensorflow\\workspace\\images\\collectedimages\\thankyou\\thankyou.435a75ad-2346-11ee-a51d-b0fc36a92524.jpg -> Annotation:H:/TensorflowObjectDetection/TFODCourse/Tensorflow/workspace/images/collectedimages/thankyou\\thankyou.435a75ad-2346-11ee-a51d-b0fc36a92524.xml\n",
      "Image:H:\\TensorflowObjectDetection\\TFODCourse\\Tensorflow\\workspace\\images\\collectedimages\\thankyou\\thankyou.483b8c49-2346-11ee-b404-b0fc36a92524.jpg -> Annotation:H:/TensorflowObjectDetection/TFODCourse/Tensorflow/workspace/images/collectedimages/thankyou\\thankyou.483b8c49-2346-11ee-b404-b0fc36a92524.xml\n",
      "Image:H:\\TensorflowObjectDetection\\TFODCourse\\Tensorflow\\workspace\\images\\collectedimages\\thankyou\\thankyou.4975f553-2346-11ee-a569-b0fc36a92524.jpg -> Annotation:H:/TensorflowObjectDetection/TFODCourse/Tensorflow/workspace/images/collectedimages/thankyou\\thankyou.4975f553-2346-11ee-a569-b0fc36a92524.xml\n",
      "Image:H:\\TensorflowObjectDetection\\TFODCourse\\Tensorflow\\workspace\\images\\collectedimages\\thankyou\\thankyou.449276da-2346-11ee-a401-b0fc36a92524.jpg -> Annotation:H:/TensorflowObjectDetection/TFODCourse/Tensorflow/workspace/images/collectedimages/thankyou\\thankyou.449276da-2346-11ee-a401-b0fc36a92524.xml\n",
      "Image:H:\\TensorflowObjectDetection\\TFODCourse\\Tensorflow\\workspace\\images\\collectedimages\\thankyou\\thankyou.4703109d-2346-11ee-9426-b0fc36a92524.jpg -> Annotation:H:/TensorflowObjectDetection/TFODCourse/Tensorflow/workspace/images/collectedimages/thankyou\\thankyou.4703109d-2346-11ee-9426-b0fc36a92524.xml\n",
      "Image:H:\\TensorflowObjectDetection\\TFODCourse\\Tensorflow\\workspace\\images\\collectedimages\\thankyou\\thankyou.42219540-2346-11ee-b2bf-b0fc36a92524.jpg -> Annotation:H:/TensorflowObjectDetection/TFODCourse/Tensorflow/workspace/images/collectedimages/thankyou\\thankyou.42219540-2346-11ee-b2bf-b0fc36a92524.xml\n",
      "Image:H:\\TensorflowObjectDetection\\TFODCourse\\Tensorflow\\workspace\\images\\collectedimages\\yes\\yes.5a0e68a9-2346-11ee-b9c3-b0fc36a92524.jpg -> Annotation:H:/TensorflowObjectDetection/TFODCourse/Tensorflow/workspace/images/collectedimages/yes\\yes.5a0e68a9-2346-11ee-b9c3-b0fc36a92524.xml\n",
      "Image:H:\\TensorflowObjectDetection\\TFODCourse\\Tensorflow\\workspace\\images\\collectedimages\\yes\\yes.5b440416-2346-11ee-a614-b0fc36a92524.jpg -> Annotation:H:/TensorflowObjectDetection/TFODCourse/Tensorflow/workspace/images/collectedimages/yes\\yes.5b440416-2346-11ee-a614-b0fc36a92524.xml\n",
      "Image:H:\\TensorflowObjectDetection\\TFODCourse\\Tensorflow\\workspace\\images\\collectedimages\\yes\\yes.5c7ae8fc-2346-11ee-9f3d-b0fc36a92524.jpg -> Annotation:H:/TensorflowObjectDetection/TFODCourse/Tensorflow/workspace/images/collectedimages/yes\\yes.5c7ae8fc-2346-11ee-9f3d-b0fc36a92524.xml\n",
      "Image:H:\\TensorflowObjectDetection\\TFODCourse\\Tensorflow\\workspace\\images\\collectedimages\\yes\\yes.5db1bd63-2346-11ee-89f8-b0fc36a92524.jpg -> Annotation:H:/TensorflowObjectDetection/TFODCourse/Tensorflow/workspace/images/collectedimages/yes\\yes.5db1bd63-2346-11ee-89f8-b0fc36a92524.xml\n",
      "Image:H:\\TensorflowObjectDetection\\TFODCourse\\Tensorflow\\workspace\\images\\collectedimages\\yes\\yes.5ee83b74-2346-11ee-accd-b0fc36a92524.jpg -> Annotation:H:/TensorflowObjectDetection/TFODCourse/Tensorflow/workspace/images/collectedimages/yes\\yes.5ee83b74-2346-11ee-accd-b0fc36a92524.xml\n",
      "Image:H:\\TensorflowObjectDetection\\TFODCourse\\Tensorflow\\workspace\\images\\collectedimages\\yes\\yes.021c2497-2346-11ee-bb2b-b0fc36a92524.jpg -> Annotation:H:/TensorflowObjectDetection/TFODCourse/Tensorflow/workspace/images/collectedimages/yes\\yes.021c2497-2346-11ee-bb2b-b0fc36a92524.xml\n",
      "Image:H:\\TensorflowObjectDetection\\TFODCourse\\Tensorflow\\workspace\\images\\collectedimages\\yes\\yes.58d45075-2346-11ee-b6c3-b0fc36a92524.jpg -> Annotation:H:/TensorflowObjectDetection/TFODCourse/Tensorflow/workspace/images/collectedimages/yes\\yes.58d45075-2346-11ee-b6c3-b0fc36a92524.xml\n",
      "Image:H:\\TensorflowObjectDetection\\TFODCourse\\Tensorflow\\workspace\\images\\collectedimages\\yes\\yes.63c408da-2346-11ee-99c1-b0fc36a92524.jpg -> Annotation:H:/TensorflowObjectDetection/TFODCourse/Tensorflow/workspace/images/collectedimages/yes\\yes.63c408da-2346-11ee-99c1-b0fc36a92524.xml\n",
      "Image:H:\\TensorflowObjectDetection\\TFODCourse\\Tensorflow\\workspace\\images\\collectedimages\\yes\\yes.64fab888-2346-11ee-a539-b0fc36a92524.jpg -> Annotation:H:/TensorflowObjectDetection/TFODCourse/Tensorflow/workspace/images/collectedimages/yes\\yes.64fab888-2346-11ee-a539-b0fc36a92524.xml\n",
      "Image:H:\\TensorflowObjectDetection\\TFODCourse\\Tensorflow\\workspace\\images\\collectedimages\\yes\\yes.552e5c24-2346-11ee-995d-b0fc36a92524.jpg -> Annotation:H:/TensorflowObjectDetection/TFODCourse/Tensorflow/workspace/images/collectedimages/yes\\yes.552e5c24-2346-11ee-995d-b0fc36a92524.xml\n",
      "Image:H:\\TensorflowObjectDetection\\TFODCourse\\Tensorflow\\workspace\\images\\collectedimages\\yes\\yes.579d8345-2346-11ee-87a5-b0fc36a92524.jpg -> Annotation:H:/TensorflowObjectDetection/TFODCourse/Tensorflow/workspace/images/collectedimages/yes\\yes.579d8345-2346-11ee-87a5-b0fc36a92524.xml\n",
      "Image:H:\\TensorflowObjectDetection\\TFODCourse\\Tensorflow\\workspace\\images\\collectedimages\\yes\\yes.601ecfbf-2346-11ee-9f92-b0fc36a92524.jpg -> Annotation:H:/TensorflowObjectDetection/TFODCourse/Tensorflow/workspace/images/collectedimages/yes\\yes.601ecfbf-2346-11ee-9f92-b0fc36a92524.xml\n",
      "Image:H:\\TensorflowObjectDetection\\TFODCourse\\Tensorflow\\workspace\\images\\collectedimages\\yes\\yes.628d123b-2346-11ee-ab77-b0fc36a92524.jpg -> Annotation:H:/TensorflowObjectDetection/TFODCourse/Tensorflow/workspace/images/collectedimages/yes\\yes.628d123b-2346-11ee-ab77-b0fc36a92524.xml\n",
      "Image:H:\\TensorflowObjectDetection\\TFODCourse\\Tensorflow\\workspace\\images\\collectedimages\\yes\\yes.5664f38c-2346-11ee-ab0c-b0fc36a92524.jpg -> Annotation:H:/TensorflowObjectDetection/TFODCourse/Tensorflow/workspace/images/collectedimages/yes\\yes.5664f38c-2346-11ee-ab0c-b0fc36a92524.xml\n",
      "Image:H:\\TensorflowObjectDetection\\TFODCourse\\Tensorflow\\workspace\\images\\collectedimages\\yes\\yes.6631a152-2346-11ee-a9fd-b0fc36a92524.jpg -> Annotation:H:/TensorflowObjectDetection/TFODCourse/Tensorflow/workspace/images/collectedimages/yes\\yes.6631a152-2346-11ee-a9fd-b0fc36a92524.xml\n",
      "Image:H:\\TensorflowObjectDetection\\TFODCourse\\Tensorflow\\workspace\\images\\collectedimages\\yes\\yes.61554a81-2346-11ee-85a0-b0fc36a92524.jpg -> Annotation:H:/TensorflowObjectDetection/TFODCourse/Tensorflow/workspace/images/collectedimages/yes\\yes.61554a81-2346-11ee-85a0-b0fc36a92524.xml\n",
      "Image:H:\\TensorflowObjectDetection\\TFODCourse\\Tensorflow\\workspace\\images\\collectedimages\\iloveyou\\iloveyou.8a628499-2346-11ee-b19e-b0fc36a92524.jpg -> Annotation:H:/TensorflowObjectDetection/TFODCourse/Tensorflow/workspace/images/collectedimages/iloveyou\\iloveyou.8a628499-2346-11ee-b19e-b0fc36a92524.xml\n",
      "Image:H:\\TensorflowObjectDetection\\TFODCourse\\Tensorflow\\workspace\\images\\collectedimages\\iloveyou\\iloveyou.8b98d946-2346-11ee-a921-b0fc36a92524.jpg -> Annotation:H:/TensorflowObjectDetection/TFODCourse/Tensorflow/workspace/images/collectedimages/iloveyou\\iloveyou.8b98d946-2346-11ee-a921-b0fc36a92524.xml\n",
      "Image:H:\\TensorflowObjectDetection\\TFODCourse\\Tensorflow\\workspace\\images\\collectedimages\\iloveyou\\iloveyou.8cd12001-2346-11ee-9e01-b0fc36a92524.jpg -> Annotation:H:/TensorflowObjectDetection/TFODCourse/Tensorflow/workspace/images/collectedimages/iloveyou\\iloveyou.8cd12001-2346-11ee-9e01-b0fc36a92524.xml\n",
      "Image:H:\\TensorflowObjectDetection\\TFODCourse\\Tensorflow\\workspace\\images\\collectedimages\\iloveyou\\iloveyou.8e0a4df5-2346-11ee-8340-b0fc36a92524.jpg -> Annotation:H:/TensorflowObjectDetection/TFODCourse/Tensorflow/workspace/images/collectedimages/iloveyou\\iloveyou.8e0a4df5-2346-11ee-8340-b0fc36a92524.xml\n",
      "Image:H:\\TensorflowObjectDetection\\TFODCourse\\Tensorflow\\workspace\\images\\collectedimages\\iloveyou\\iloveyou.8f4490f4-2346-11ee-b659-b0fc36a92524.jpg -> Annotation:H:/TensorflowObjectDetection/TFODCourse/Tensorflow/workspace/images/collectedimages/iloveyou\\iloveyou.8f4490f4-2346-11ee-b659-b0fc36a92524.xml\n",
      "Image:H:\\TensorflowObjectDetection\\TFODCourse\\Tensorflow\\workspace\\images\\collectedimages\\iloveyou\\iloveyou.86b97fb0-2346-11ee-b572-b0fc36a92524.jpg -> Annotation:H:/TensorflowObjectDetection/TFODCourse/Tensorflow/workspace/images/collectedimages/iloveyou\\iloveyou.86b97fb0-2346-11ee-b572-b0fc36a92524.xml\n",
      "Image:H:\\TensorflowObjectDetection\\TFODCourse\\Tensorflow\\workspace\\images\\collectedimages\\iloveyou\\iloveyou.87f0dc49-2346-11ee-980a-b0fc36a92524.jpg -> Annotation:H:/TensorflowObjectDetection/TFODCourse/Tensorflow/workspace/images/collectedimages/iloveyou\\iloveyou.87f0dc49-2346-11ee-980a-b0fc36a92524.xml\n"
     ]
    }
   ],
   "source": [
    "!cd {LABELIMG_PATH} && python labelImg.py"
   ]
  },
  {
   "cell_type": "markdown",
   "metadata": {},
   "source": [
    "# 6. Move them into a Training and Testing Partition"
   ]
  },
  {
   "cell_type": "code",
   "execution_count": null,
   "metadata": {},
   "outputs": [],
   "source": []
  }
 ],
 "metadata": {
  "kernelspec": {
   "display_name": "tfod",
   "language": "python",
   "name": "tfod"
  },
  "language_info": {
   "codemirror_mode": {
    "name": "ipython",
    "version": 3
   },
   "file_extension": ".py",
   "mimetype": "text/x-python",
   "name": "python",
   "nbconvert_exporter": "python",
   "pygments_lexer": "ipython3",
   "version": "3.11.1"
  }
 },
 "nbformat": 4,
 "nbformat_minor": 2
}
